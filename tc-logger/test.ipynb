{
 "cells": [
  {
   "cell_type": "code",
   "execution_count": 1,
   "id": "b7437a83-bb0d-4b1b-8746-cc1ec4bae06a",
   "metadata": {},
   "outputs": [
    {
     "name": "stdout",
     "output_type": "stream",
     "text": [
      "Response from device: t2246!\n"
     ]
    }
   ],
   "source": [
    "import serial\n",
    "import time\n",
    "\n",
    "# Configure the serial connection\n",
    "ser = serial.Serial(\n",
    "    port='COM7',  # Change to your port\n",
    "    baudrate=9600,        # Change to the baud rate of your device\n",
    "\n",
    "    timeout=1             # Timeout for read\n",
    ")\n",
    "\n",
    "# Allow time for the connection to establish\n",
    "# time.sleep(2)\n",
    "\n",
    "# Function to write data to the device\n",
    "def write_data(data):\n",
    "    ser.write(data.encode('utf-8'))  # Encode data to bytes\n",
    "\n",
    "# Function to read data from the device\n",
    "def read_data():\n",
    "    response = ser.read(10)  # Read 10 bytes (adjust as necessary)\n",
    "    return response.decode('utf-8')\n",
    "\n",
    "try:\n",
    "    # Example: write data to the RS-485 device\n",
    "    write_data(\"t;\")\n",
    "    \n",
    "    # Read response from the device\n",
    "    response = read_data()\n",
    "    print(\"Response from device:\", response)\n",
    "\n",
    "finally:\n",
    "    ser.close()  # Always close the serial connection\n"
   ]
  },
  {
   "cell_type": "code",
   "execution_count": 1,
   "id": "f47030a7",
   "metadata": {},
   "outputs": [],
   "source": [
    "%load_ext autoreload\n",
    "%autoreload 2\n",
    "from tc_logger_manager import *\n"
   ]
  },
  {
   "cell_type": "code",
   "execution_count": 2,
   "id": "80d875f1-2cd0-4f4c-9bad-4cfc364debaf",
   "metadata": {},
   "outputs": [
    {
     "name": "stdout",
     "output_type": "stream",
     "text": [
      "Established connection to TC Logger at COM7\n",
      "22.39\r"
     ]
    },
    {
     "ename": "KeyboardInterrupt",
     "evalue": "",
     "output_type": "error",
     "traceback": [
      "\u001b[1;31m---------------------------------------------------------------------------\u001b[0m",
      "\u001b[1;31mKeyboardInterrupt\u001b[0m                         Traceback (most recent call last)",
      "Cell \u001b[1;32mIn[2], line 6\u001b[0m\n\u001b[0;32m      3\u001b[0m \u001b[38;5;28;01mfor\u001b[39;00m j \u001b[38;5;129;01min\u001b[39;00m \u001b[38;5;28mrange\u001b[39m(\u001b[38;5;241m100\u001b[39m):\n\u001b[0;32m      5\u001b[0m     \u001b[38;5;28mprint\u001b[39m(tclogger\u001b[38;5;241m.\u001b[39mread_channel(\u001b[38;5;241m0\u001b[39m), end\u001b[38;5;241m=\u001b[39m\u001b[38;5;124m'\u001b[39m\u001b[38;5;130;01m\\r\u001b[39;00m\u001b[38;5;124m'\u001b[39m)\n\u001b[1;32m----> 6\u001b[0m     \u001b[43mtime\u001b[49m\u001b[38;5;241;43m.\u001b[39;49m\u001b[43msleep\u001b[49m\u001b[43m(\u001b[49m\u001b[38;5;241;43m1\u001b[39;49m\u001b[43m)\u001b[49m\n\u001b[0;32m      9\u001b[0m tclogger\u001b[38;5;241m.\u001b[39mclose()\n",
      "\u001b[1;31mKeyboardInterrupt\u001b[0m: "
     ]
    }
   ],
   "source": [
    "tclogger = TCLogger('COM7')\n",
    "\n",
    "for j in range(100):\n",
    "\n",
    "    print(tclogger.read_channel(0), end='\\r')\n",
    "    time.sleep(1)\n",
    "\n",
    "\n",
    "tclogger.close()"
   ]
  },
  {
   "cell_type": "code",
   "execution_count": null,
   "id": "c7fb1bef",
   "metadata": {},
   "outputs": [],
   "source": []
  }
 ],
 "metadata": {
  "kernelspec": {
   "display_name": "Python 3",
   "language": "python",
   "name": "python3"
  },
  "language_info": {
   "codemirror_mode": {
    "name": "ipython",
    "version": 3
   },
   "file_extension": ".py",
   "mimetype": "text/x-python",
   "name": "python",
   "nbconvert_exporter": "python",
   "pygments_lexer": "ipython3",
   "version": "3.12.4"
  }
 },
 "nbformat": 4,
 "nbformat_minor": 5
}
